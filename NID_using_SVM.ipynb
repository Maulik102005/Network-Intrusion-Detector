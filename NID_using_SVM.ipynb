{
  "cells": [
    {
      "cell_type": "markdown",
      "metadata": {
        "id": "lVEog9vy6MK7"
      },
      "source": [
        "# Network Intrusion Detection Classifier using Support Vector Machine\n",
        "\n",
        "Imports and Data Preparation\n"
      ]
    },
    {
      "cell_type": "code",
      "execution_count": null,
      "metadata": {
        "id": "985Tz_id5eOm"
      },
      "outputs": [
        {
          "name": "stdout",
          "output_type": "stream",
          "text": [
            "Training set: 125973 samples\n",
            "Testing set: 22544 samples\n"
          ]
        }
      ],
      "source": [
        "import numpy as np\n",
        "import pandas as pd\n",
        "from sklearn.preprocessing import StandardScaler, LabelEncoder\n",
        "from sklearn.model_selection import train_test_split\n",
        "from urllib.request import urlretrieve\n",
        "from tqdm import tqdm\n",
        "import os\n",
        "\n",
        "# URLs for NSL-KDD dataset\n",
        "train_url = \"https://github.com/jmnwong/NSL-KDD-Dataset/raw/master/KDDTrain+.txt\"\n",
        "test_url = \"https://github.com/jmnwong/NSL-KDD-Dataset/raw/master/KDDTest+.txt\"\n",
        "\n",
        "train_file = \"KDDTrain+.txt\"\n",
        "test_file = \"KDDTest+.txt\"\n",
        "\n",
        "if not os.path.exists(train_file):\n",
        "    print(\"Downloading training dataset...\")\n",
        "    urlretrieve(train_url, train_file)\n",
        "if not os.path.exists(test_file):\n",
        "    print(\"Downloading testing dataset...\")\n",
        "    urlretrieve(test_url, test_file)\n",
        "\n",
        "columns = [\n",
        "    \"duration\", \"protocol_type\", \"service\", \"flag\", \"src_bytes\", \"dst_bytes\",\n",
        "    \"land\", \"wrong_fragment\", \"urgent\", \"hot\", \"num_failed_logins\", \"logged_in\",\n",
        "    \"num_compromised\", \"root_shell\", \"su_attempted\", \"num_root\", \"num_file_creations\",\n",
        "    \"num_shells\", \"num_access_files\", \"num_outbound_cmds\", \"is_host_login\",\n",
        "    \"is_guest_login\", \"count\", \"srv_count\", \"serror_rate\", \"srv_serror_rate\",\n",
        "    \"rerror_rate\", \"srv_rerror_rate\", \"same_srv_rate\", \"diff_srv_rate\",\n",
        "    \"srv_diff_host_rate\", \"dst_host_count\", \"dst_host_srv_count\",\n",
        "    \"dst_host_same_srv_rate\", \"dst_host_diff_srv_rate\",\n",
        "    \"dst_host_same_src_port_rate\", \"dst_host_srv_diff_host_rate\",\n",
        "    \"dst_host_serror_rate\", \"dst_host_srv_serror_rate\", \"dst_host_rerror_rate\",\n",
        "    \"dst_host_srv_rerror_rate\", \"class\", \"difficulty\"\n",
        "]\n",
        "\n",
        "\n",
        "train_df = pd.read_csv(train_file, names=columns, header=None)\n",
        "test_df = pd.read_csv(test_file, names=columns, header=None)\n",
        "\n",
        "\n",
        "#Preprocessing data (Label encoding for categorical columns and convert class labels to binary (0 for normal, 1 for attack)]\n",
        "df = pd.concat([train_df, test_df], axis=0)\n",
        "\n",
        "categorical_cols = [\"protocol_type\", \"service\", \"flag\"]\n",
        "encoder = LabelEncoder()\n",
        "for col in categorical_cols:\n",
        "    df[col] = encoder.fit_transform(df[col])\n",
        "\n",
        "df[\"class\"] = df[\"class\"].apply(lambda x: 0 if x == \"normal\" else 1)\n",
        "\n",
        "X = df.drop(\"class\", axis=1).values\n",
        "y = df[\"class\"].values\n",
        "\n",
        "scaler = StandardScaler()\n",
        "X = scaler.fit_transform(X)\n",
        "\n",
        "X_train = X[:len(train_df)]\n",
        "y_train = y[:len(train_df)]\n",
        "X_test = X[len(train_df):]\n",
        "y_test = y[len(train_df):]\n",
        "\n",
        "print(f\"Training set: {X_train.shape[0]} samples\")\n",
        "print(f\"Testing set: {X_test.shape[0]} samples\")\n"
      ]
    },
    {
      "cell_type": "markdown",
      "metadata": {
        "id": "ehJ692zt6527"
      },
      "source": [
        "SVM Classifier Implementation"
      ]
    },
    {
      "cell_type": "code",
      "execution_count": 19,
      "metadata": {
        "id": "YIwOe7cj66P4"
      },
      "outputs": [],
      "source": [
        "class SVM:\n",
        "    def __init__(self, learning_rate=0.001, lambda_param=0.01, epochs=1000):\n",
        "        self.lr = learning_rate\n",
        "        self.lambda_param = lambda_param\n",
        "        self.epochs = epochs\n",
        "\n",
        "    def fit(self, X, y):\n",
        "        n_samples, n_features = X.shape\n",
        "        y_ = np.where(y <= 0, -1, 1)\n",
        "\n",
        "        self.w = np.zeros(n_features)\n",
        "        self.b = 0\n",
        "\n",
        "        for _ in tqdm(range(self.epochs), desc=\"Training Progress\"):\n",
        "            for idx, x_i in enumerate(X):\n",
        "            # Margin condition: if the sample is correctly classified and outside the margin\n",
        "                cndn = y_[idx] * (np.dot(x_i, self.w) - self.b) >= 1\n",
        "\n",
        "                if cndn:\n",
        "                # Apply L2 regularization if correctly classified and outside margin\n",
        "                  self.w -= self.lr * (2 * self.lambda_param * self.w)\n",
        "                else:\n",
        "                  # Else if it is within margin or misclassified, update both weights and bias\n",
        "                  # (gradient step considers hinge loss and regularization)\n",
        "                  self.w -= self.lr * (2 * self.lambda_param * self.w - np.dot(x_i, y_[idx]))\n",
        "                  self.b -= self.lr * y_[idx]  # Adjusting bias\n",
        "\n",
        "\n",
        "    def predict(self, X):\n",
        "        approx = np.dot(X, self.w) - self.b\n",
        "        return np.where(approx >= 0, 1, 0)\n"
      ]
    },
    {
      "cell_type": "markdown",
      "metadata": {
        "id": "S51g81IG7A_U"
      },
      "source": [
        "Training and Evaluating the SVM Model"
      ]
    },
    {
      "cell_type": "code",
      "execution_count": 20,
      "metadata": {
        "colab": {
          "base_uri": "https://localhost:8080/"
        },
        "id": "npK7-UpF7BTD",
        "outputId": "ac80ecff-695f-434d-c2c6-2c596af23820"
      },
      "outputs": [
        {
          "name": "stderr",
          "output_type": "stream",
          "text": [
            "Training Progress: 100%|██████████| 10/10 [00:03<00:00,  2.79it/s]"
          ]
        },
        {
          "name": "stdout",
          "output_type": "stream",
          "text": [
            "SVM Model Accuracy: 85.63%\n"
          ]
        },
        {
          "name": "stderr",
          "output_type": "stream",
          "text": [
            "\n"
          ]
        }
      ],
      "source": [
        "# Initialize and train SVM model\n",
        "svm_classifier = SVM(learning_rate=0.001, lambda_param=0.01, epochs=10)\n",
        "svm_classifier.fit(X_train, y_train)\n",
        "\n",
        "# Predict and check accuracy on test data\n",
        "y_pred_svm = svm_classifier.predict(X_test)\n",
        "accuracy_svm = np.mean(y_pred_svm == y_test) * 100\n",
        "print(f\"SVM Model Accuracy: {accuracy_svm:.2f}%\")\n"
      ]
    },
    {
      "cell_type": "code",
      "execution_count": 21,
      "metadata": {
        "colab": {
          "base_uri": "https://localhost:8080/"
        },
        "id": "-DstcVw0-WKK",
        "outputId": "bd212df4-a9fe-4006-e3c8-c4f680bf8f42"
      },
      "outputs": [
        {
          "name": "stdout",
          "output_type": "stream",
          "text": [
            "Confusion Matrix:\n",
            " [[ 8927   784]\n",
            " [ 2455 10378]]\n"
          ]
        }
      ],
      "source": [
        "from sklearn.metrics import classification_report, confusion_matrix\n",
        "\n",
        "# Compute confusion matrix\n",
        "conf_matrix = confusion_matrix(y_test, y_pred_svm)\n",
        "print(\"Confusion Matrix:\\n\", conf_matrix)\n"
      ]
    },
    {
      "cell_type": "markdown",
      "metadata": {
        "id": "s7hLB-s8-NRD"
      },
      "source": [
        "Scikit learn SVM implementation"
      ]
    },
    {
      "cell_type": "code",
      "execution_count": 22,
      "metadata": {
        "colab": {
          "base_uri": "https://localhost:8080/"
        },
        "id": "SCELjOkx-RWu",
        "outputId": "f0eb51a0-da9c-4f9b-c66e-06d6174bf3c9"
      },
      "outputs": [
        {
          "name": "stdout",
          "output_type": "stream",
          "text": [
            "Scikit-learn SVM Accuracy: 84.67%\n"
          ]
        }
      ],
      "source": [
        "from sklearn.svm import SVC\n",
        "\n",
        "svm_sklearn = SVC(kernel='linear')\n",
        "svm_sklearn.fit(X_train, y_train)\n",
        "y_pred_sklearn = svm_sklearn.predict(X_test)\n",
        "\n",
        "accuracy_sklearn = np.mean(y_pred_sklearn == y_test) * 100\n",
        "print(f\"Scikit-learn SVM Accuracy: {accuracy_sklearn:.2f}%\")"
      ]
    }
  ],
  "metadata": {
    "colab": {
      "provenance": []
    },
    "kernelspec": {
      "display_name": ".venv",
      "language": "python",
      "name": "python3"
    },
    "language_info": {
      "codemirror_mode": {
        "name": "ipython",
        "version": 3
      },
      "file_extension": ".py",
      "mimetype": "text/x-python",
      "name": "python",
      "nbconvert_exporter": "python",
      "pygments_lexer": "ipython3",
      "version": "3.13.2"
    }
  },
  "nbformat": 4,
  "nbformat_minor": 0
}
